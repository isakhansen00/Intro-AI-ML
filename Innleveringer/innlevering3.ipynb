{
 "cells": [
  {
   "cell_type": "raw",
   "metadata": {},
   "source": [
    "1: Filen \"Personer.dta\" skal leses inn i en list persons. Filen inneholder 100 000 rader med fiktive personalia på formatet \"etternavn;fornavn;adresse;postnummer;poststed\". Dette skal gjøres i native Python, dvs. Numpy/Pandas eller andre libs skal ikke brukes. Legg hver rad inn i en passende datastruktur, feks. tuple, dict, list eller namedtuple. Skriv så ut de 5 siste radene i en celle."
   ]
  },
  {
   "cell_type": "code",
   "execution_count": 49,
   "metadata": {},
   "outputs": [
    {
     "name": "stdout",
     "output_type": "stream",
     "text": [
      "STORLIEN;HANS-MAGNUS;TALLSLETTA 57;3849;VRÅLIOSEN\n",
      "ASAIPPILLAI;JO GUDBRAND;BERGERUD 68;4371;EGERSUND\n",
      "TOLLEFSEN;ZULFIQAR ALI;EIRIK JARLS GATE 79;1305;HASLUM\n",
      "ELI;KNUT OLAF;RUSTAD S 14;9775;GAMVIK\n",
      "NYRUD;ERIK NORØ;GJERDHAUGVEGEN 3;6512;KRISTIANSUND N\n"
     ]
    }
   ],
   "source": [
    "#kode her\n",
    "\n",
    "with open('Personer.dta') as person_fil:\n",
    "    persons = [line.strip() for line in person_fil]\n",
    "    \n",
    "count = -5\n",
    "while count <= -1:\n",
    "    print(persons[count])\n",
    "    count +=1\n",
    "\n"
   ]
  },
  {
   "cell_type": "raw",
   "metadata": {},
   "source": [
    "2: Hvor mange unike postnummer finnes i \"Personer.dta\"?"
   ]
  },
  {
   "cell_type": "code",
   "execution_count": 46,
   "metadata": {},
   "outputs": [
    {
     "name": "stdout",
     "output_type": "stream",
     "text": [
      "There are 2824 unique postnumbers.\n"
     ]
    }
   ],
   "source": [
    "#kode her\n",
    "postcode_list = []\n",
    "\n",
    "# Adds postcodes to new list if not in it, passes if it is\n",
    "for person in persons:\n",
    "    split_person = person.split(';')\n",
    "    if split_person[3] in postcode_list:\n",
    "        pass\n",
    "    else:\n",
    "        postcode_list.append(split_person[3])\n",
    "\n",
    "print(f\"There are {len(postcode_list)} unique postnumbers.\")"
   ]
  },
  {
   "cell_type": "raw",
   "metadata": {},
   "source": []
  },
  {
   "cell_type": "raw",
   "metadata": {},
   "source": [
    "3: Hva er de 10 vanligste etternavnene (som forekommer flest ganger) i \"Personer.dta\"?"
   ]
  },
  {
   "cell_type": "code",
   "execution_count": 47,
   "metadata": {},
   "outputs": [
    {
     "name": "stdout",
     "output_type": "stream",
     "text": [
      "The ten most common last names are:\n",
      "----------------------------------------\n",
      "ÅSBAKK - 83\n",
      "BERGERSEN - 78\n",
      "DANIELSEN - 77\n",
      "LUTHER - 77\n",
      "TRANE - 77\n",
      "LUNDBERGSEN - 77\n",
      "MJØEN - 76\n",
      "LAM - 75\n",
      "KRANGSÅS - 75\n",
      "IGLAND - 75\n"
     ]
    }
   ],
   "source": [
    "#kode her\n",
    "last_names = dict()\n",
    "\n",
    "# Loops through persons and adds last name plus 1 if it is not in, increments by 1 for every new occurence\n",
    "for person in persons:\n",
    "    split_person = person.split(';')\n",
    "    if split_person[0] in last_names:\n",
    "        last_names[split_person[0]] += 1\n",
    "    else:\n",
    "        last_names[split_person[0]] = 1\n",
    "\n",
    "# Sorts the dictionary by the ten largest\n",
    "top_ten = {key: last_names[key] for key in sorted(last_names, key=last_names.get, reverse=True)[:10]}\n",
    "\n",
    "print(\"The ten most common last names are:\")\n",
    "print(\"-\"*40)\n",
    "for key, value in top_ten.items():\n",
    "    print(f\"{key} - {value}\")"
   ]
  },
  {
   "cell_type": "raw",
   "metadata": {},
   "source": [
    "4: Implementer sorteringsalgoritmen Heap Sort og sorter listen \"persons\" ut fra etternavn. Ferdig implementerte funksjoner som sorted() skal ikke benyttes. Skriv så ut persondata for de fem personene med index [0,20000,40000,60000,80000] fra den sorterte listen."
   ]
  },
  {
   "cell_type": "code",
   "execution_count": 48,
   "metadata": {},
   "outputs": [
    {
     "name": "stdout",
     "output_type": "stream",
     "text": [
      "Index 0: ['AAKVIK', 'ANETTE', 'BAKLIEN 11', '1360', 'NESBRU']\n",
      "Index 20000: ['ENGVOLL', 'TOM MIKAEL', 'KVAM ST 48', '1804', 'SPYDEBERG']\n",
      "Index 40000: ['JERMOSEN', 'ÅGE RAYMOND', 'HATLEBAKKANE 6', '5236', 'RÅDAL']\n",
      "Index 60000: ['MYRLUND', 'GAUTE', 'DYNESTØL 89', '7494', 'SINGSÅS']\n",
      "Index 80000: ['SMITH', 'ARNT OLE', 'SAPPEN 39', '5852', 'BERGEN']\n"
     ]
    }
   ],
   "source": [
    "#kode her\n",
    "class Heap:\n",
    "    def __init__(self):\n",
    "        self.__heap_list = []\n",
    "\n",
    "    # Add a new item into the lst \n",
    "    def add(self, e):\n",
    "        self.__heap_list.append(e)  \n",
    "        # index of last element\n",
    "        curr_idx = len(self.__heap_list) - 1  \n",
    "    \n",
    "        while curr_idx > 0:\n",
    "            parent_idx = (curr_idx - 1) // 2\n",
    "            # Swap if the current item is greater than its parent\n",
    "            if self.__heap_list[curr_idx] > self.__heap_list[parent_idx]: \n",
    "                self.__heap_list[curr_idx], self.__heap_list[parent_idx] = \\\n",
    "                    self.__heap_list[parent_idx], self.__heap_list[curr_idx]\n",
    "            else:\n",
    "                break  \n",
    "    \n",
    "            curr_idx = parent_idx\n",
    "\n",
    "    # Remove the root from the lst \n",
    "    def remove(self):\n",
    "        if len(self.__heap_list) == 0:\n",
    "            return None\n",
    "    \n",
    "        removed_item = self.__heap_list[0]\n",
    "        self.__heap_list[0] = self.__heap_list[len(self.__heap_list) - 1]\n",
    "        self.__heap_list.pop(len(self.__heap_list) - 1) # Removing the last item\n",
    "    \n",
    "        curr_idx = 0\n",
    "        while curr_idx < len(self.__heap_list):\n",
    "            left_child_idx = 2 * curr_idx + 1\n",
    "            right_child_idx = 2 * curr_idx + 2\n",
    "          \n",
    "            # Find the max between two children\n",
    "            if left_child_idx >= len(self.__heap_list): \n",
    "                break \n",
    "            max_index = left_child_idx\n",
    "            if right_child_idx < len(self.__heap_list):\n",
    "                if self.__heap_list[max_index] < self.__heap_list[right_child_idx]:\n",
    "                    max_index = right_child_idx\n",
    "          \n",
    "            \n",
    "            # If the current element is less than the maximum, swap them\n",
    "            if self.__heap_list[curr_idx] < self.__heap_list[max_index]:\n",
    "                self.__heap_list[max_index], self.__heap_list[curr_idx] = \\\n",
    "                    self.__heap_list[curr_idx], self.__heap_list[max_index]\n",
    "                curr_idx = max_index\n",
    "            else:\n",
    "                break \n",
    "    \n",
    "        return removed_item\n",
    "  \n",
    "\n",
    "\n",
    "def heap_sort(lst):\n",
    "    heap = Heap() # Create a Heap \n",
    "\n",
    "    for elem in lst:\n",
    "        heap.add(elem)\n",
    "\n",
    "    for i in range(len(lst)): \n",
    "        lst[len(lst) - 1 - i] = heap.remove()\n",
    "  \n",
    "def main():\n",
    "        last_name = []\n",
    "        for i in persons:\n",
    "            person = i.split(\";\")\n",
    "            last_name.append(list(person))\n",
    "        heap_sort(last_name)\n",
    "        index = [0, 20000, 40000, 60000, 80000]\n",
    "        for x in index:\n",
    "            print(f\"Index {x}: {str(last_name[x])}\")\n",
    "\n",
    "main()"
   ]
  }
 ],
 "metadata": {
  "kernelspec": {
   "display_name": "Python 3.10.2 ('venv': venv)",
   "language": "python",
   "name": "python3"
  },
  "language_info": {
   "codemirror_mode": {
    "name": "ipython",
    "version": 3
   },
   "file_extension": ".py",
   "mimetype": "text/x-python",
   "name": "python",
   "nbconvert_exporter": "python",
   "pygments_lexer": "ipython3",
   "version": "3.10.2"
  },
  "vscode": {
   "interpreter": {
    "hash": "4cd257a17489abe0991006acf54fd50415726511dff0cebfc29a3d9ec90b5205"
   }
  }
 },
 "nbformat": 4,
 "nbformat_minor": 4
}
