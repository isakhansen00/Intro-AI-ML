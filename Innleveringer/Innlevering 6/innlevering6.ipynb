{
 "cells": [
  {
   "cell_type": "raw",
   "metadata": {},
   "source": [
    "The following dict represents a number of fictional planets. Each key in the dict is the name of a planet, while the value, in this case another dict, represents planets you can travel to from this planets. The values inside the inner dicts represents the fuel cost associated with travelling to these planets. You want to optimize the fuel cost when travelling between planets, and so you turn to Dijkstra's algorithm."
   ]
  },
  {
   "cell_type": "code",
   "execution_count": 2,
   "metadata": {},
   "outputs": [],
   "source": [
    "graph = {\n",
    "    'aranos': {'barlow': 14, 'daxx': 7, 'yeedil': 9},\n",
    "    'boldan': {'barlow': 9, 'oozla': 6},\n",
    "    'barlow': {'aranos': 14, 'boldan': 9, 'yeedil': 2},\n",
    "    'daxx': {'aranos': 7, 'yeedil': 10, 'oozla': 16},\n",
    "    'yeedil': {'aranos': 9, 'barlow': 2, 'daxx': 10, 'oozla': 11},\n",
    "    'oozla': {'boldan': 6, 'daxx': 15, 'yeedil': 11},\n",
    "}"
   ]
  },
  {
   "cell_type": "raw",
   "metadata": {},
   "source": [
    "Write a function that uses Dijkstra's algorithm to find the shortest path between 2 nodes in a graph represented by a dict of dicts. Using your function, print the shortest path(nodes visited) and cost between:\n",
    "a) from Aranos to Boldan\n",
    "b) from Barlow to Aranos\n",
    "c) from Daxx to Boldan"
   ]
  },
  {
   "cell_type": "code",
   "execution_count": null,
   "metadata": {},
   "outputs": [],
   "source": []
  }
 ],
 "metadata": {
  "kernelspec": {
   "display_name": "Python 3",
   "language": "python",
   "name": "python3"
  },
  "language_info": {
   "codemirror_mode": {
    "name": "ipython",
    "version": 3
   },
   "file_extension": ".py",
   "mimetype": "text/x-python",
   "name": "python",
   "nbconvert_exporter": "python",
   "pygments_lexer": "ipython3",
   "version": "3.7.9"
  }
 },
 "nbformat": 4,
 "nbformat_minor": 4
}
